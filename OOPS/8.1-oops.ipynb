{
 "cells": [
  {
   "cell_type": "markdown",
   "metadata": {},
   "source": [
    "### Classes and Objects"
   ]
  },
  {
   "cell_type": "code",
   "execution_count": 2,
   "metadata": {},
   "outputs": [
    {
     "name": "stdout",
     "output_type": "stream",
     "text": [
      "<class '__main__.Car'>\n",
      "<__main__.Car object at 0x00000280CCA96988>\n",
      "<__main__.Car object at 0x00000280CCA96688>\n"
     ]
    }
   ],
   "source": [
    "### A class is the blueprint for creating objects. Attributes and methods\n",
    "\n",
    "class Car:\n",
    "    pass\n",
    "\n",
    "audi = Car()\n",
    "bmw = Car()\n",
    "\n",
    "print(type(audi))\n",
    "\n",
    "print(audi)\n",
    "print(bmw)"
   ]
  },
  {
   "cell_type": "code",
   "execution_count": 5,
   "metadata": {},
   "outputs": [
    {
     "name": "stdout",
     "output_type": "stream",
     "text": [
      "<__main__.Dog object at 0x00000280CCAA7188>\n",
      "buddy\n",
      "21\n"
     ]
    }
   ],
   "source": [
    "### Instance variables and methods\n",
    "class Dog:\n",
    "    ## constructor\n",
    "    def __init__(self,name,age):\n",
    "        self.name = name # Here self represents the instance variables\n",
    "        self.age = age\n",
    "\n",
    "# Creating the object\n",
    "dog1 = Dog(\"buddy\",21)\n",
    "print(dog1) # The output printed here shows the memory location wherein the object has been created\n",
    "\n",
    "print(dog1.name)\n",
    "print(dog1.age)\n",
    "\n",
    "# A good practice is to define the instance variables inside the constructor itself"
   ]
  },
  {
   "cell_type": "code",
   "execution_count": 9,
   "metadata": {},
   "outputs": [
    {
     "name": "stdout",
     "output_type": "stream",
     "text": [
      "Buddy says woof\n",
      "Lucy says woof\n"
     ]
    }
   ],
   "source": [
    "## Define a class with instance method\n",
    "class Dog:\n",
    "    def __init__(self,name,age):\n",
    "        self.name = name\n",
    "        self.age = age\n",
    "    \n",
    "    def bark(self):\n",
    "        print(f\"{self.name} says woof\")\n",
    "\n",
    "\n",
    "dog1 = Dog(\"Buddy\",3)\n",
    "dog1.bark()\n",
    "\n",
    "dog2 = Dog(\"Lucy\",4)\n",
    "dog2.bark()\n",
    "\n",
    "# Here we are passing the self as the argument of the method for the purpose of making use of the instance variables\n",
    "    "
   ]
  },
  {
   "cell_type": "code",
   "execution_count": 13,
   "metadata": {},
   "outputs": [
    {
     "name": "stdout",
     "output_type": "stream",
     "text": [
      "5000\n",
      "1000 has been depoisted. New balance is : 6000\n",
      "3000 has been withdrawn. Current balance is 3000\n"
     ]
    },
    {
     "data": {
      "text/plain": [
       "3000"
      ]
     },
     "execution_count": 13,
     "metadata": {},
     "output_type": "execute_result"
    }
   ],
   "source": [
    "## Modelling a Bank Account\n",
    "\n",
    "## Define a class for the bank account\n",
    "class BankAccount:\n",
    "    def __init__(self,owner,balance=0):\n",
    "        self.owner = owner\n",
    "        self.balance = balance\n",
    "\n",
    "    def deposit(self,amount):\n",
    "        self.balance += amount\n",
    "        print(f\"{amount} has been depoisted. New balance is : {self.balance}\")\n",
    "    \n",
    "    def withdraw(self,amount):\n",
    "        if amount > self.balance:\n",
    "            print(\"Insufficient funds\")\n",
    "        else:\n",
    "            self.balance -= amount\n",
    "            print(f\"{amount} has been withdrawn. Current balance is {self.balance}\")\n",
    "\n",
    "    def getBalance(self):\n",
    "        return self.balance\n",
    "    \n",
    "    \n",
    "# Creating the object\n",
    "\n",
    "account = BankAccount(\"Charu\",5000)\n",
    "print(account.balance)\n",
    "account.deposit(1000)\n",
    "account.withdraw(3000)\n",
    "account.getBalance()"
   ]
  },
  {
   "cell_type": "markdown",
   "metadata": {},
   "source": [
    "### Conclusion\n",
    "\n",
    "- Allows to model real world scenarios"
   ]
  },
  {
   "cell_type": "code",
   "execution_count": null,
   "metadata": {},
   "outputs": [],
   "source": []
  }
 ],
 "metadata": {
  "kernelspec": {
   "display_name": "env",
   "language": "python",
   "name": "python3"
  },
  "language_info": {
   "codemirror_mode": {
    "name": "ipython",
    "version": 3
   },
   "file_extension": ".py",
   "mimetype": "text/x-python",
   "name": "python",
   "nbconvert_exporter": "python",
   "pygments_lexer": "ipython3",
   "version": "3.7.9"
  }
 },
 "nbformat": 4,
 "nbformat_minor": 2
}
