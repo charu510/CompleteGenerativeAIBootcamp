{
 "cells": [
  {
   "cell_type": "markdown",
   "metadata": {},
   "source": [
    "### Inheritence in Python\n",
    "\n",
    "- Used for the purpose of inheriting attributes and methods from other classes"
   ]
  },
  {
   "cell_type": "code",
   "execution_count": 1,
   "metadata": {},
   "outputs": [],
   "source": [
    "### Inheritence\n",
    "\n",
    "## Parent class\n",
    "class Car:\n",
    "    def __init__(self,windows,doors,enginetype):\n",
    "        self.windows = windows\n",
    "        self.doors = doors\n",
    "        self.enginetype = enginetype\n",
    "    \n",
    "    def drive(self):\n",
    "        print(f\"The person will drive the {self.enginetype} car\")"
   ]
  },
  {
   "cell_type": "code",
   "execution_count": 4,
   "metadata": {},
   "outputs": [
    {
     "name": "stdout",
     "output_type": "stream",
     "text": [
      "The person will drive the petrol car\n"
     ]
    }
   ],
   "source": [
    "car1 = Car(4,5,\"petrol\")\n",
    "car1.drive() # Here None is observed in the output as the instance method does nor return any type\n",
    "# Removing the print will do the trick of removing None from the output"
   ]
  },
  {
   "cell_type": "code",
   "execution_count": 11,
   "metadata": {},
   "outputs": [],
   "source": [
    "# This is the syntax of inheriting from the Parent class\n",
    "class Tesla(Car):\n",
    "    def __init__(self,windows,doors,enginetype,isSelfDriving):\n",
    "        super().__init__(windows,doors,enginetype) # Here we are calling the Parent class and mentioning the attributes which we want to inherit\n",
    "        #self.enginetype = enginetype -> This will not work as the positional arguments for the parent class is violated\n",
    "        self.isSelfDriving = isSelfDriving\n",
    "\n",
    "    def selfdriving(self):\n",
    "        print(f\"Tesle supports self driving :{self.isSelfDriving}\")\n"
   ]
  },
  {
   "cell_type": "code",
   "execution_count": 14,
   "metadata": {},
   "outputs": [
    {
     "name": "stdout",
     "output_type": "stream",
     "text": [
      "Tesle supports self driving :True\n",
      "The person will drive the electric car\n"
     ]
    }
   ],
   "source": [
    "tesla1 = Tesla(4,5,\"electric\",True)\n",
    "tesla1.selfdriving()\n",
    "tesla1.drive() # Calling the parent instance method"
   ]
  },
  {
   "cell_type": "code",
   "execution_count": 18,
   "metadata": {},
   "outputs": [
    {
     "name": "stdout",
     "output_type": "stream",
     "text": [
      "Charu is the owner of Buddy\n"
     ]
    }
   ],
   "source": [
    "## Multiple inheritence\n",
    "\n",
    "# When a class inherits from more than one base class\n",
    "\n",
    "# Base class 1\n",
    "class Animal:\n",
    "    def __init__(self,name):\n",
    "        self.name = name\n",
    "    def speak(self):\n",
    "        print(\"Subclasses must implement this method\")\n",
    "\n",
    "# Base class 2\n",
    "class Pet:\n",
    "    def __init__(self,owner):\n",
    "        self.owner = owner\n",
    "\n",
    "# Multiple inheritence\n",
    "class Dog(Animal,Pet):\n",
    "    def __init__(self, name,owner):\n",
    "        Animal.__init__(self,name) # remember to respect the positional arguments of the parent class even if it is self\n",
    "        Pet.__init__(self,owner)\n",
    "    def speak(self):\n",
    "        return f\"{self.name} say woof\"\n",
    "    \n",
    "# Creating an object\n",
    "dog = Dog(\"Buddy\",\"Charu\")\n",
    "dog.speak()\n",
    "print(f\"{dog.owner} is the owner of {dog.name}\")\n"
   ]
  },
  {
   "cell_type": "code",
   "execution_count": null,
   "metadata": {},
   "outputs": [],
   "source": []
  }
 ],
 "metadata": {
  "kernelspec": {
   "display_name": "env",
   "language": "python",
   "name": "python3"
  },
  "language_info": {
   "codemirror_mode": {
    "name": "ipython",
    "version": 3
   },
   "file_extension": ".py",
   "mimetype": "text/x-python",
   "name": "python",
   "nbconvert_exporter": "python",
   "pygments_lexer": "ipython3",
   "version": "3.7.9"
  }
 },
 "nbformat": 4,
 "nbformat_minor": 2
}
