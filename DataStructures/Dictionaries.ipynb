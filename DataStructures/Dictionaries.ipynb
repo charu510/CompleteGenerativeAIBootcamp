{
 "cells": [
  {
   "cell_type": "markdown",
   "metadata": {},
   "source": [
    "## Dictionaries\n",
    "\n",
    "- These are unordered collection of items wherein the key must be unique and immutable whereas the values can of any data type"
   ]
  },
  {
   "cell_type": "code",
   "execution_count": 2,
   "metadata": {},
   "outputs": [
    {
     "name": "stdout",
     "output_type": "stream",
     "text": [
      "<class 'dict'>\n"
     ]
    }
   ],
   "source": [
    "# Creating dictionary\n",
    "empty_dict = {}\n",
    "print(type(empty_dict))"
   ]
  },
  {
   "cell_type": "code",
   "execution_count": 3,
   "metadata": {},
   "outputs": [
    {
     "name": "stdout",
     "output_type": "stream",
     "text": [
      "<class 'dict'>\n"
     ]
    }
   ],
   "source": [
    "empty_dict = dict()\n",
    "print(type(empty_dict))"
   ]
  },
  {
   "cell_type": "code",
   "execution_count": 4,
   "metadata": {},
   "outputs": [
    {
     "name": "stdout",
     "output_type": "stream",
     "text": [
      "{'name': 'Charu', 'age': 23, 'grade': 24}\n",
      "<class 'dict'>\n"
     ]
    }
   ],
   "source": [
    "student = {\"name\":\"Charu\", \"age\":23, \"grade\":24}\n",
    "print(student)\n",
    "print(type(student))"
   ]
  },
  {
   "cell_type": "code",
   "execution_count": 5,
   "metadata": {},
   "outputs": [
    {
     "name": "stdout",
     "output_type": "stream",
     "text": [
      "{'name': 'Charu', 'age': 23, 'grade': 24}\n"
     ]
    }
   ],
   "source": [
    "# Error -> Here the key must be unique -> There is overriding and takes the recent value assigned as the key\n",
    "student = {\"name\":\"Charu\", \"age\":23, \"grade\":24}\n",
    "print(student)"
   ]
  },
  {
   "cell_type": "code",
   "execution_count": 6,
   "metadata": {},
   "outputs": [
    {
     "name": "stdout",
     "output_type": "stream",
     "text": [
      "{'name': 'Charu', 'age': 23, 'grade': 'A'}\n"
     ]
    }
   ],
   "source": [
    "# accessing dictionary elements\n",
    "student = {\"name\":\"Charu\", \"age\":23, \"grade\":\"A\"}\n",
    "print(student)"
   ]
  },
  {
   "cell_type": "code",
   "execution_count": 7,
   "metadata": {},
   "outputs": [
    {
     "name": "stdout",
     "output_type": "stream",
     "text": [
      "A\n",
      "None\n",
      "Not available\n"
     ]
    }
   ],
   "source": [
    "# Access way - 1\n",
    "student['grade']\n",
    "student['age']\n",
    "\n",
    "# Accessing using the get() method\n",
    "print(student.get(\"grade\"))\n",
    "print(student.get(\"last_name\")) # Getting None as the output therefore giving the default_value\n",
    "print(student.get(\"last_name\",\"Not available\"))\n"
   ]
  },
  {
   "cell_type": "code",
   "execution_count": 8,
   "metadata": {},
   "outputs": [
    {
     "name": "stdout",
     "output_type": "stream",
     "text": [
      "{'name': 'Charu', 'age': 23, 'grade': 'A'}\n"
     ]
    }
   ],
   "source": [
    "# Modifying the dictionary elements\n",
    "# Dictionary are mutable where you add, update or delete elements. The keys must be unique however\n",
    "\n",
    "print(student)"
   ]
  },
  {
   "cell_type": "code",
   "execution_count": 9,
   "metadata": {},
   "outputs": [
    {
     "name": "stdout",
     "output_type": "stream",
     "text": [
      "{'name': 'Charu', 'age': 24, 'grade': 'A'}\n",
      "{'name': 'Charu', 'age': 24, 'grade': 'A', 'address': 'India'}\n",
      "{'name': 'Charu', 'age': 24, 'address': 'India'}\n"
     ]
    }
   ],
   "source": [
    "# updating the key\n",
    "student[\"age\"] = 24\n",
    "print(student)\n",
    "\n",
    "# adding a new key\n",
    "student[\"address\"] = \"India\"\n",
    "print(student)\n",
    "\n",
    "# deleting the key\n",
    "del(student[\"grade\"])\n",
    "print(student)"
   ]
  },
  {
   "cell_type": "code",
   "execution_count": 10,
   "metadata": {},
   "outputs": [
    {
     "name": "stdout",
     "output_type": "stream",
     "text": [
      "dict_keys(['name', 'age', 'address'])\n",
      "dict_values(['Charu', 24, 'India'])\n",
      "dict_items([('name', 'Charu'), ('age', 24), ('address', 'India')])\n"
     ]
    }
   ],
   "source": [
    "# Common dictionary methods\n",
    "\n",
    "keys = student.keys()\n",
    "print(keys) # list\n",
    "\n",
    "values = student.values()\n",
    "print(values) #list\n",
    "\n",
    "# getting the key and values as items\n",
    "items = student.items()\n",
    "print(items) #list of tuples"
   ]
  },
  {
   "cell_type": "code",
   "execution_count": 12,
   "metadata": {},
   "outputs": [
    {
     "name": "stdout",
     "output_type": "stream",
     "text": [
      "{'name': 'Charu', 'age': 24, 'address': 'India'}\n",
      "{'name': 'Charu', 'age': 24, 'address': 'India'}\n"
     ]
    }
   ],
   "source": [
    "# Shallow copy\n",
    "student_copy = student\n",
    "print(student)\n",
    "print(student_copy)"
   ]
  },
  {
   "cell_type": "code",
   "execution_count": 13,
   "metadata": {},
   "outputs": [
    {
     "name": "stdout",
     "output_type": "stream",
     "text": [
      "{'name': 'Charu1', 'age': 24, 'address': 'India'}\n",
      "{'name': 'Charu1', 'age': 24, 'address': 'India'}\n"
     ]
    }
   ],
   "source": [
    "student[\"name\"] = \"Charu1\"\n",
    "print(student)\n",
    "print(student_copy) # Here also the name change has been updated"
   ]
  },
  {
   "cell_type": "code",
   "execution_count": 18,
   "metadata": {},
   "outputs": [
    {
     "name": "stdout",
     "output_type": "stream",
     "text": [
      "{'name': 'CharuRajput', 'age': 24, 'address': 'India'}\n",
      "{'name': 'CharuRajput', 'age': 24, 'address': 'India'}\n"
     ]
    }
   ],
   "source": [
    "# concept of shallow copy is to make a copy which does not gets affected when the original one is changed\n",
    "student_copy1 = student.copy()\n",
    "# Here basically the reference of the same object is directed towards a different memory space\n",
    "# print(student_copy1)\n",
    "# print(student)\n",
    "\n",
    "# Updating the student name in the original one\n"
   ]
  },
  {
   "cell_type": "code",
   "execution_count": 20,
   "metadata": {},
   "outputs": [
    {
     "name": "stdout",
     "output_type": "stream",
     "text": [
      "{'name': 'CharuRajput', 'age': 24, 'address': 'India'}\n",
      "{'name': 'Krish3', 'age': 24, 'address': 'India'}\n"
     ]
    }
   ],
   "source": [
    "student[\"name\"] = \"Krish3\"\n",
    "print(student_copy1)\n",
    "print(student)"
   ]
  },
  {
   "cell_type": "markdown",
   "metadata": {},
   "source": [
    "#### Iterating over the dictionaries\n"
   ]
  },
  {
   "cell_type": "code",
   "execution_count": 26,
   "metadata": {},
   "outputs": [
    {
     "name": "stdout",
     "output_type": "stream",
     "text": [
      "name\n",
      "age\n",
      "address\n"
     ]
    }
   ],
   "source": [
    "# Using the loops\n",
    "\n",
    "# 1. Over the keys\n",
    "for key in student.keys():\n",
    "    print(key)\n"
   ]
  },
  {
   "cell_type": "code",
   "execution_count": 25,
   "metadata": {},
   "outputs": [
    {
     "name": "stdout",
     "output_type": "stream",
     "text": [
      "Krish3\n",
      "24\n",
      "India\n"
     ]
    }
   ],
   "source": [
    "# 2. Over the values\n",
    "for value in student.values():\n",
    "    print(value)"
   ]
  },
  {
   "cell_type": "code",
   "execution_count": 27,
   "metadata": {},
   "outputs": [
    {
     "name": "stdout",
     "output_type": "stream",
     "text": [
      "name : Krish3\n",
      "age : 24\n",
      "address : India\n"
     ]
    }
   ],
   "source": [
    "# 3. Over the key-value pairs\n",
    "for k,v in student.items():\n",
    "    print(f\"{k} : {v}\")"
   ]
  },
  {
   "cell_type": "markdown",
   "metadata": {},
   "source": [
    "### Nested dictionary\n",
    "\n",
    "- NOsql databases are based on this principle"
   ]
  },
  {
   "cell_type": "code",
   "execution_count": 30,
   "metadata": {},
   "outputs": [
    {
     "name": "stdout",
     "output_type": "stream",
     "text": [
      "{'student1': {'name': 'Charu', 'age': 23}, 'student2': {'name': 'Peter', 'age': 35}}\n"
     ]
    }
   ],
   "source": [
    "students = {\n",
    "    \"student1\": {\"name\":\"Charu\",\"age\":23},\n",
    "    \"student2\": {\"name\":\"Peter\",\"age\":35},\n",
    "}\n",
    "\n",
    "print(students)"
   ]
  },
  {
   "cell_type": "code",
   "execution_count": 33,
   "metadata": {},
   "outputs": [
    {
     "name": "stdout",
     "output_type": "stream",
     "text": [
      "Peter\n",
      "35\n",
      "Charu\n",
      "23\n"
     ]
    }
   ],
   "source": [
    "# Access nested dictionaries\n",
    "\n",
    "print(students[\"student2\"][\"name\"])\n",
    "print(students[\"student2\"][\"age\"])\n",
    "\n",
    "# Trying the accessing using the get() method\n",
    "print(students.get(\"student1\").get(\"name\"))\n",
    "print(students.get(\"student1\").get(\"age\"))"
   ]
  },
  {
   "cell_type": "code",
   "execution_count": 34,
   "metadata": {},
   "outputs": [
    {
     "name": "stdout",
     "output_type": "stream",
     "text": [
      "student1 : {'name': 'Charu', 'age': 23}\n",
      "name : Charu\n",
      "age : 23\n",
      "student2 : {'name': 'Peter', 'age': 35}\n",
      "name : Peter\n",
      "age : 35\n"
     ]
    }
   ],
   "source": [
    "# Iterating over the nested dictionaries\n",
    "for student_id,student_info in students.items():\n",
    "    print(f\"{student_id} : {student_info}\")\n",
    "    for key,value in student_info.items():\n",
    "        print(f\"{key} : {value}\")"
   ]
  },
  {
   "cell_type": "code",
   "execution_count": 35,
   "metadata": {},
   "outputs": [
    {
     "name": "stdout",
     "output_type": "stream",
     "text": [
      "{0: 0, 1: 1, 2: 4, 3: 9, 4: 16}\n"
     ]
    }
   ],
   "source": [
    "# Dictionary comprehension\n",
    "squares = {x:x**2 for x in range(5)}\n",
    "print(squares)"
   ]
  },
  {
   "cell_type": "code",
   "execution_count": 37,
   "metadata": {},
   "outputs": [
    {
     "name": "stdout",
     "output_type": "stream",
     "text": [
      "{0: 0, 2: 4, 4: 16, 6: 36, 8: 64}\n"
     ]
    }
   ],
   "source": [
    "# conditional iteration over the square values\n",
    "even_squares = {x:x**2 for x in range(10) if x%2==0}\n",
    "print(even_squares)"
   ]
  },
  {
   "cell_type": "code",
   "execution_count": 40,
   "metadata": {},
   "outputs": [
    {
     "name": "stdout",
     "output_type": "stream",
     "text": [
      "{1: 1, 2: 2, 3: 3, 4: 4}\n"
     ]
    }
   ],
   "source": [
    "# Practical examples\n",
    "\n",
    "# Use a dictionary to count the frequency of elements in a list\n",
    "numbers = [1,2,2,3,3,3,4,4,4,4]\n",
    "frequency = {num:numbers.count(num) for num in numbers}\n",
    "print(frequency)"
   ]
  },
  {
   "cell_type": "code",
   "execution_count": 42,
   "metadata": {},
   "outputs": [
    {
     "name": "stdout",
     "output_type": "stream",
     "text": [
      "{'a': 1, 'b': 3, 'c': 4}\n"
     ]
    }
   ],
   "source": [
    "# Merging 2 dictionaries into one\n",
    "dict1 = {\"a\":1,\"b\":2}\n",
    "dict2 = {\"b\":3,\"c\":4}\n",
    "merged_dict = {**dict1,**dict2}\n",
    "print(merged_dict)\n",
    "\n",
    "# Another point to be noted here is that b has been used same time so the most recent value i.e 3 has been assigned against it\n"
   ]
  },
  {
   "cell_type": "code",
   "execution_count": null,
   "metadata": {},
   "outputs": [],
   "source": []
  }
 ],
 "metadata": {
  "kernelspec": {
   "display_name": "env",
   "language": "python",
   "name": "python3"
  },
  "language_info": {
   "codemirror_mode": {
    "name": "ipython",
    "version": 3
   },
   "file_extension": ".py",
   "mimetype": "text/x-python",
   "name": "python",
   "nbconvert_exporter": "python",
   "pygments_lexer": "ipython3",
   "version": "3.7.9"
  }
 },
 "nbformat": 4,
 "nbformat_minor": 2
}
